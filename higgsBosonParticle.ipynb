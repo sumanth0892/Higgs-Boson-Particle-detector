{
 "cells": [
  {
   "cell_type": "code",
   "execution_count": 27,
   "metadata": {},
   "outputs": [],
   "source": [
    "import os\n",
    "import numpy as np\n",
    "import pandas as pd \n",
    "from time import time\n",
    "import visualizations as vz\n",
    "%matplotlib inline\n",
    "import matplotlib.pyplot as plt\n",
    "from IPython.display import display\n",
    "from sklearn.preprocessing import MinMaxScaler\n",
    "from sklearn.model_selection import train_test_split"
   ]
  },
  {
   "cell_type": "code",
   "execution_count": 28,
   "metadata": {
    "scrolled": true
   },
   "outputs": [],
   "source": [
    "#Read the data\n",
    "train = pd.read_csv('higgsTrain.csv')\n",
    "test = pd.read_csv('higgsTest.csv')"
   ]
  },
  {
   "cell_type": "markdown",
   "metadata": {},
   "source": [
    "Now we've seen all the columns, let's write a preprocessing function to remove columns and look at values. In the first methods of analysis, let us drop features which have more than 70% values missing. We can directly drop the common columns in both sets. The percent of values missing are the same columns in both sets. Hence, we can directly drop the following columns in both sets directly:\n"
   ]
  },
  {
   "cell_type": "code",
   "execution_count": 29,
   "metadata": {},
   "outputs": [],
   "source": [
    "#Add a parameter to denote whether or not the dataset under consideration is a test set. \n",
    "def preProcess(DF):\n",
    "    colsToDrop = []; missingValues = []\n",
    "    for col in list(DF.columns):\n",
    "        df_partial = DF[col] == -999.0\n",
    "        if (df_partial.sum()/len(DF)) >= 0.7:\n",
    "            colsToDrop.append(col)\n",
    "        if (df_partial.sum()/len(DF)) == 0.0:\n",
    "            continue\n",
    "        if (df_partial.sum()/len(DF)) > 0 and (df_partial.sum()/len(DF)) < 0.7:\n",
    "            missingValues.append(col)\n",
    "    DF = DF.drop(colsToDrop,axis = 1)\n",
    "    del df_partial\n",
    "    DF = DF.drop(['EventId','Weight'],axis = 1)\n",
    "    return DF,colsToDrop,missingValues"
   ]
  },
  {
   "cell_type": "code",
   "execution_count": 30,
   "metadata": {
    "scrolled": true
   },
   "outputs": [
    {
     "name": "stdout",
     "output_type": "stream",
     "text": [
      "Feature DER_mass_MMC has 38114 undefined values\n",
      "Feature DER_mass_transverse_met_lep has 0 undefined values\n",
      "Feature DER_mass_vis has 0 undefined values\n",
      "Feature DER_pt_h has 0 undefined values\n",
      "Feature DER_deltar_tau_lep has 0 undefined values\n",
      "Feature DER_pt_tot has 0 undefined values\n",
      "Feature DER_sum_pt has 0 undefined values\n",
      "Feature DER_pt_ratio_lep_tau has 0 undefined values\n",
      "Feature DER_met_phi_centrality has 0 undefined values\n",
      "Feature PRI_tau_pt has 0 undefined values\n",
      "Feature PRI_tau_eta has 0 undefined values\n",
      "Feature PRI_tau_phi has 0 undefined values\n",
      "Feature PRI_lep_pt has 0 undefined values\n",
      "Feature PRI_lep_eta has 0 undefined values\n",
      "Feature PRI_lep_phi has 0 undefined values\n",
      "Feature PRI_met has 0 undefined values\n",
      "Feature PRI_met_phi has 0 undefined values\n",
      "Feature PRI_met_sumet has 0 undefined values\n",
      "Feature PRI_jet_num has 0 undefined values\n",
      "Feature PRI_jet_leading_pt has 99913 undefined values\n",
      "Feature PRI_jet_leading_eta has 99913 undefined values\n",
      "Feature PRI_jet_leading_phi has 99913 undefined values\n",
      "Feature PRI_jet_all_pt has 0 undefined values\n",
      "Feature Label has 0 undefined values\n"
     ]
    }
   ],
   "source": [
    "X,colsToDrop,missingValues = preProcess(train)\n",
    "x_test = test.drop(colsToDrop,axis = 1) #Data preprocessing found that the same columns have 70% values missing\n",
    "x_test = x_test.drop(['EventId'],axis = 1)\n",
    "del train,test\n",
    "for col in list(X.columns):\n",
    "    df_partial = X[col] == -999.0\n",
    "    print(\"Feature {0} has {1} undefined values\".format(col,df_partial.sum()))\n",
    "del df_partial\n",
    "#X.to_csv('higgsTrainModified.csv') Run this once to save the modified data\n",
    "#x_test.to_csv('higgsTestModified.csv') "
   ]
  },
  {
   "cell_type": "markdown",
   "metadata": {},
   "source": [
    "The four features which need more attention are DER_mass_MMC, Jet leading point, Jet Leading angle and Jet leading angle. These features have to re-engineered for both the training and the testing dataset. "
   ]
  },
  {
   "cell_type": "code",
   "execution_count": 32,
   "metadata": {},
   "outputs": [
    {
     "name": "stdout",
     "output_type": "stream",
     "text": [
      "There are 26123 undefined values of estimated mass Mh\n",
      "There are 7562 undefined values of estimated mass Mh\n",
      "There are 2952 undefined values of estimated mass Mh\n",
      "There are 1477 undefined values of estimated mass Mh\n"
     ]
    }
   ],
   "source": [
    "#Split the dataset into different jets\n",
    "dfJet0 = X[X['PRI_jet_num'] == 0]\n",
    "dfJet1 = X[X['PRI_jet_num'] == 1]\n",
    "dfJet2 = X[X['PRI_jet_num'] == 2]\n",
    "dfJet3 = X[X['PRI_jet_num'] == 3]\n",
    "for dfJet in [dfJet0,dfJet1,dfJet2,dfJet3]:\n",
    "    df_partial = dfJet['DER_mass_MMC'] == -999.0\n",
    "    print(\"There are {0} undefined values of estimated mass Mh\".format(df_partial.sum()))\n",
    "del df_partial"
   ]
  },
  {
   "cell_type": "code",
   "execution_count": null,
   "metadata": {},
   "outputs": [],
   "source": []
  }
 ],
 "metadata": {
  "kernelspec": {
   "display_name": "Python 3",
   "language": "python",
   "name": "python3"
  },
  "language_info": {
   "codemirror_mode": {
    "name": "ipython",
    "version": 3
   },
   "file_extension": ".py",
   "mimetype": "text/x-python",
   "name": "python",
   "nbconvert_exporter": "python",
   "pygments_lexer": "ipython3",
   "version": "3.7.6"
  }
 },
 "nbformat": 4,
 "nbformat_minor": 4
}
