{
 "cells": [
  {
   "cell_type": "code",
   "execution_count": 12,
   "metadata": {},
   "outputs": [],
   "source": [
    "import os\n",
    "import numpy as np\n",
    "import pandas as pd \n",
    "from time import time\n",
    "import visualizations as vz\n",
    "%matplotlib inline\n",
    "import matplotlib.pyplot as plt\n",
    "from IPython.display import display\n",
    "from sklearn.preprocessing import MinMaxScaler\n",
    "from sklearn.model_selection import train_test_split"
   ]
  },
  {
   "cell_type": "code",
   "execution_count": 13,
   "metadata": {
    "scrolled": true
   },
   "outputs": [
    {
     "name": "stdout",
     "output_type": "stream",
     "text": [
      "EventId\n",
      "DER_mass_MMC\n",
      "DER_mass_transverse_met_lep\n",
      "DER_mass_vis\n",
      "DER_pt_h\n",
      "DER_deltaeta_jet_jet\n",
      "DER_mass_jet_jet\n",
      "DER_prodeta_jet_jet\n",
      "DER_deltar_tau_lep\n",
      "DER_pt_tot\n",
      "DER_sum_pt\n",
      "DER_pt_ratio_lep_tau\n",
      "DER_met_phi_centrality\n",
      "DER_lep_eta_centrality\n",
      "PRI_tau_pt\n",
      "PRI_tau_eta\n",
      "PRI_tau_phi\n",
      "PRI_lep_pt\n",
      "PRI_lep_eta\n",
      "PRI_lep_phi\n",
      "PRI_met\n",
      "PRI_met_phi\n",
      "PRI_met_sumet\n",
      "PRI_jet_num\n",
      "PRI_jet_leading_pt\n",
      "PRI_jet_leading_eta\n",
      "PRI_jet_leading_phi\n",
      "PRI_jet_subleading_pt\n",
      "PRI_jet_subleading_eta\n",
      "PRI_jet_subleading_phi\n",
      "PRI_jet_all_pt\n",
      "Weight\n",
      "Label\n",
      "33\n"
     ]
    }
   ],
   "source": [
    "#Read the data\n",
    "train = pd.read_csv('higgsTrain.csv')\n",
    "test = pd.read_csv('higgsTest.csv')\n",
    "for col in list(train.columns):\n",
    "    print(col)\n",
    "print(len(list(train.columns)))"
   ]
  },
  {
   "cell_type": "code",
   "execution_count": 14,
   "metadata": {},
   "outputs": [
    {
     "data": {
      "text/plain": [
       "0    99913\n",
       "1    77544\n",
       "2    50379\n",
       "3    22164\n",
       "Name: PRI_jet_num, dtype: int64"
      ]
     },
     "execution_count": 14,
     "metadata": {},
     "output_type": "execute_result"
    }
   ],
   "source": [
    "#Look at the number of jets first\n",
    "train['PRI_jet_num'].value_counts()"
   ]
  },
  {
   "cell_type": "code",
   "execution_count": 15,
   "metadata": {},
   "outputs": [
    {
     "name": "stdout",
     "output_type": "stream",
     "text": [
      "Jet 0 has the following columns:\n",
      "<class 'pandas.core.frame.DataFrame'>\n",
      "Int64Index: 99913 entries, 3 to 249999\n",
      "Data columns (total 23 columns):\n",
      " #   Column                       Non-Null Count  Dtype  \n",
      "---  ------                       --------------  -----  \n",
      " 0   EventId                      99913 non-null  int64  \n",
      " 1   DER_mass_MMC                 99913 non-null  float64\n",
      " 2   DER_mass_transverse_met_lep  99913 non-null  float64\n",
      " 3   DER_mass_vis                 99913 non-null  float64\n",
      " 4   DER_pt_h                     99913 non-null  float64\n",
      " 5   DER_deltar_tau_lep           99913 non-null  float64\n",
      " 6   DER_pt_tot                   99913 non-null  float64\n",
      " 7   DER_sum_pt                   99913 non-null  float64\n",
      " 8   DER_pt_ratio_lep_tau         99913 non-null  float64\n",
      " 9   DER_met_phi_centrality       99913 non-null  float64\n",
      " 10  PRI_tau_pt                   99913 non-null  float64\n",
      " 11  PRI_tau_eta                  99913 non-null  float64\n",
      " 12  PRI_tau_phi                  99913 non-null  float64\n",
      " 13  PRI_lep_pt                   99913 non-null  float64\n",
      " 14  PRI_lep_eta                  99913 non-null  float64\n",
      " 15  PRI_lep_phi                  99913 non-null  float64\n",
      " 16  PRI_met                      99913 non-null  float64\n",
      " 17  PRI_met_phi                  99913 non-null  float64\n",
      " 18  PRI_met_sumet                99913 non-null  float64\n",
      " 19  PRI_jet_num                  99913 non-null  int64  \n",
      " 20  PRI_jet_all_pt               99913 non-null  float64\n",
      " 21  Weight                       99913 non-null  float64\n",
      " 22  Label                        99913 non-null  object \n",
      "dtypes: float64(20), int64(2), object(1)\n",
      "memory usage: 18.3+ MB\n",
      "None\n",
      "\n",
      "\n",
      "Jet 1 has the following columns:\n",
      "<class 'pandas.core.frame.DataFrame'>\n",
      "Int64Index: 77544 entries, 1 to 249997\n",
      "Data columns (total 26 columns):\n",
      " #   Column                       Non-Null Count  Dtype  \n",
      "---  ------                       --------------  -----  \n",
      " 0   EventId                      77544 non-null  int64  \n",
      " 1   DER_mass_MMC                 77544 non-null  float64\n",
      " 2   DER_mass_transverse_met_lep  77544 non-null  float64\n",
      " 3   DER_mass_vis                 77544 non-null  float64\n",
      " 4   DER_pt_h                     77544 non-null  float64\n",
      " 5   DER_deltar_tau_lep           77544 non-null  float64\n",
      " 6   DER_pt_tot                   77544 non-null  float64\n",
      " 7   DER_sum_pt                   77544 non-null  float64\n",
      " 8   DER_pt_ratio_lep_tau         77544 non-null  float64\n",
      " 9   DER_met_phi_centrality       77544 non-null  float64\n",
      " 10  PRI_tau_pt                   77544 non-null  float64\n",
      " 11  PRI_tau_eta                  77544 non-null  float64\n",
      " 12  PRI_tau_phi                  77544 non-null  float64\n",
      " 13  PRI_lep_pt                   77544 non-null  float64\n",
      " 14  PRI_lep_eta                  77544 non-null  float64\n",
      " 15  PRI_lep_phi                  77544 non-null  float64\n",
      " 16  PRI_met                      77544 non-null  float64\n",
      " 17  PRI_met_phi                  77544 non-null  float64\n",
      " 18  PRI_met_sumet                77544 non-null  float64\n",
      " 19  PRI_jet_num                  77544 non-null  int64  \n",
      " 20  PRI_jet_leading_pt           77544 non-null  float64\n",
      " 21  PRI_jet_leading_eta          77544 non-null  float64\n",
      " 22  PRI_jet_leading_phi          77544 non-null  float64\n",
      " 23  PRI_jet_all_pt               77544 non-null  float64\n",
      " 24  Weight                       77544 non-null  float64\n",
      " 25  Label                        77544 non-null  object \n",
      "dtypes: float64(23), int64(2), object(1)\n",
      "memory usage: 16.0+ MB\n",
      "None\n",
      "\n",
      "\n",
      "Jet 2 has the following columns:\n",
      "<class 'pandas.core.frame.DataFrame'>\n",
      "Int64Index: 50379 entries, 0 to 249994\n",
      "Data columns (total 33 columns):\n",
      " #   Column                       Non-Null Count  Dtype  \n",
      "---  ------                       --------------  -----  \n",
      " 0   EventId                      50379 non-null  int64  \n",
      " 1   DER_mass_MMC                 50379 non-null  float64\n",
      " 2   DER_mass_transverse_met_lep  50379 non-null  float64\n",
      " 3   DER_mass_vis                 50379 non-null  float64\n",
      " 4   DER_pt_h                     50379 non-null  float64\n",
      " 5   DER_deltaeta_jet_jet         50379 non-null  float64\n",
      " 6   DER_mass_jet_jet             50379 non-null  float64\n",
      " 7   DER_prodeta_jet_jet          50379 non-null  float64\n",
      " 8   DER_deltar_tau_lep           50379 non-null  float64\n",
      " 9   DER_pt_tot                   50379 non-null  float64\n",
      " 10  DER_sum_pt                   50379 non-null  float64\n",
      " 11  DER_pt_ratio_lep_tau         50379 non-null  float64\n",
      " 12  DER_met_phi_centrality       50379 non-null  float64\n",
      " 13  DER_lep_eta_centrality       50379 non-null  float64\n",
      " 14  PRI_tau_pt                   50379 non-null  float64\n",
      " 15  PRI_tau_eta                  50379 non-null  float64\n",
      " 16  PRI_tau_phi                  50379 non-null  float64\n",
      " 17  PRI_lep_pt                   50379 non-null  float64\n",
      " 18  PRI_lep_eta                  50379 non-null  float64\n",
      " 19  PRI_lep_phi                  50379 non-null  float64\n",
      " 20  PRI_met                      50379 non-null  float64\n",
      " 21  PRI_met_phi                  50379 non-null  float64\n",
      " 22  PRI_met_sumet                50379 non-null  float64\n",
      " 23  PRI_jet_num                  50379 non-null  int64  \n",
      " 24  PRI_jet_leading_pt           50379 non-null  float64\n",
      " 25  PRI_jet_leading_eta          50379 non-null  float64\n",
      " 26  PRI_jet_leading_phi          50379 non-null  float64\n",
      " 27  PRI_jet_subleading_pt        50379 non-null  float64\n",
      " 28  PRI_jet_subleading_eta       50379 non-null  float64\n",
      " 29  PRI_jet_subleading_phi       50379 non-null  float64\n",
      " 30  PRI_jet_all_pt               50379 non-null  float64\n",
      " 31  Weight                       50379 non-null  float64\n",
      " 32  Label                        50379 non-null  object \n",
      "dtypes: float64(30), int64(2), object(1)\n",
      "memory usage: 13.1+ MB\n",
      "None\n",
      "\n",
      "\n",
      "Jet 3 has the following columns:\n",
      "<class 'pandas.core.frame.DataFrame'>\n",
      "Int64Index: 22164 entries, 5 to 249993\n",
      "Data columns (total 33 columns):\n",
      " #   Column                       Non-Null Count  Dtype  \n",
      "---  ------                       --------------  -----  \n",
      " 0   EventId                      22164 non-null  int64  \n",
      " 1   DER_mass_MMC                 22164 non-null  float64\n",
      " 2   DER_mass_transverse_met_lep  22164 non-null  float64\n",
      " 3   DER_mass_vis                 22164 non-null  float64\n",
      " 4   DER_pt_h                     22164 non-null  float64\n",
      " 5   DER_deltaeta_jet_jet         22164 non-null  float64\n",
      " 6   DER_mass_jet_jet             22164 non-null  float64\n",
      " 7   DER_prodeta_jet_jet          22164 non-null  float64\n",
      " 8   DER_deltar_tau_lep           22164 non-null  float64\n",
      " 9   DER_pt_tot                   22164 non-null  float64\n",
      " 10  DER_sum_pt                   22164 non-null  float64\n",
      " 11  DER_pt_ratio_lep_tau         22164 non-null  float64\n",
      " 12  DER_met_phi_centrality       22164 non-null  float64\n",
      " 13  DER_lep_eta_centrality       22164 non-null  float64\n",
      " 14  PRI_tau_pt                   22164 non-null  float64\n",
      " 15  PRI_tau_eta                  22164 non-null  float64\n",
      " 16  PRI_tau_phi                  22164 non-null  float64\n",
      " 17  PRI_lep_pt                   22164 non-null  float64\n",
      " 18  PRI_lep_eta                  22164 non-null  float64\n",
      " 19  PRI_lep_phi                  22164 non-null  float64\n",
      " 20  PRI_met                      22164 non-null  float64\n",
      " 21  PRI_met_phi                  22164 non-null  float64\n",
      " 22  PRI_met_sumet                22164 non-null  float64\n",
      " 23  PRI_jet_num                  22164 non-null  int64  \n",
      " 24  PRI_jet_leading_pt           22164 non-null  float64\n",
      " 25  PRI_jet_leading_eta          22164 non-null  float64\n",
      " 26  PRI_jet_leading_phi          22164 non-null  float64\n",
      " 27  PRI_jet_subleading_pt        22164 non-null  float64\n",
      " 28  PRI_jet_subleading_eta       22164 non-null  float64\n",
      " 29  PRI_jet_subleading_phi       22164 non-null  float64\n",
      " 30  PRI_jet_all_pt               22164 non-null  float64\n",
      " 31  Weight                       22164 non-null  float64\n",
      " 32  Label                        22164 non-null  object \n",
      "dtypes: float64(30), int64(2), object(1)\n",
      "memory usage: 5.7+ MB\n",
      "None\n",
      "\n",
      "\n"
     ]
    }
   ],
   "source": [
    "#Split the dataset into different jets\n",
    "dfJet0 = train[(train['PRI_jet_num'] == 0)]\n",
    "dfJet1 = train[(train['PRI_jet_num'] == 1)]\n",
    "dfJet2 = train[(train['PRI_jet_num'] == 2)]\n",
    "dfJet3 = train[(train['PRI_jet_num'] == 3)]\n",
    "del train\n",
    "\n",
    "def clean_jet_sets(jetFrame):\n",
    "    for col in list(jetFrame.columns):\n",
    "        missing = (jetFrame[col] == -999.000)\n",
    "        if (missing.all()  == True):\n",
    "            jetFrame = jetFrame.drop(col, axis = 1)\n",
    "    return jetFrame\n",
    "\n",
    "dfJet0 = clean_jet_sets(dfJet0)\n",
    "dfJet1 = clean_jet_sets(dfJet1)\n",
    "dfJet2 = clean_jet_sets(dfJet2)\n",
    "dfJet3 = clean_jet_sets(dfJet3)\n",
    "print(\"Jet 0 has the following columns:\")\n",
    "print(dfJet0.info())\n",
    "print(\"\\n\")\n",
    "print(\"Jet 1 has the following columns:\")\n",
    "print(dfJet1.info())\n",
    "print(\"\\n\")\n",
    "print(\"Jet 2 has the following columns:\")\n",
    "print(dfJet2.info())\n",
    "print(\"\\n\")\n",
    "print(\"Jet 3 has the following columns:\")\n",
    "print(dfJet3.info())\n",
    "print(\"\\n\")"
   ]
  },
  {
   "cell_type": "markdown",
   "metadata": {},
   "source": [
    "Each Jet is now considered separately and analysis performed separately. "
   ]
  },
  {
   "cell_type": "code",
   "execution_count": 16,
   "metadata": {},
   "outputs": [],
   "source": [
    "#dfJet0['PRI_jet_all_pt'].value_counts()\n",
    "dfJet0 = dfJet0.drop(['PRI_jet_num','PRI_jet_all_pt'],axis = 1)\n",
    "#Also, 'DER_pt_h' always equals 'DER_pt_tot':\n",
    "dfJet0 = dfJet0.drop(['DER_pt_h'],axis = 1)"
   ]
  },
  {
   "cell_type": "markdown",
   "metadata": {},
   "source": [
    "Due to the presence of a single jet in Jet 1, the transversal momentum equals the total"
   ]
  },
  {
   "cell_type": "code",
   "execution_count": 17,
   "metadata": {},
   "outputs": [],
   "source": [
    "#(dfJet1['PRI_jet_all_pt'] - dfJet1['PRI_jet_leading_pt']).value_counts()\n",
    "dfJet1 = dfJet1.drop(['PRI_jet_num','PRI_jet_all_pt'],axis = 1)"
   ]
  },
  {
   "cell_type": "code",
   "execution_count": 18,
   "metadata": {},
   "outputs": [],
   "source": [
    "# For two jets, the total transversal momentum is the sum of the momentum of both jets -\n",
    "#Lack of new information \n",
    "dfJet2 = dfJet2.drop(['PRI_jet_num', 'PRI_jet_all_pt'], axis = 1)\n",
    "#There is more information available only when three jets are present \n",
    "dfJet3 = dfJet3.drop(['PRI_jet_num'],axis = 1)\n",
    "\n",
    "#Since we're interested only in the sign of DER_deltaeta_jet_jet, drop it for now:\n",
    "dfJet2 = dfJet2.drop('DER_deltaeta_jet_jet', axis = 1)\n",
    "dfJet3 = dfJet3.drop('DER_deltaeta_jet_jet', axis = 1)"
   ]
  },
  {
   "cell_type": "code",
   "execution_count": 22,
   "metadata": {},
   "outputs": [
    {
     "name": "stdout",
     "output_type": "stream",
     "text": [
      "DER_mass_MMC\n",
      "DER_mass_MMC\n",
      "DER_mass_MMC\n",
      "DER_mass_MMC\n"
     ]
    }
   ],
   "source": [
    "#Look at the missing values \n",
    "def getMissing(DF):\n",
    "    for col in list(DF.columns):\n",
    "        missing = (DF[col] == -999.0)\n",
    "        if (missing.any() == True):\n",
    "            print(col)\n",
    "getMissing(dfJet0)\n",
    "getMissing(dfJet1)\n",
    "getMissing(dfJet2)\n",
    "getMissing(dfJet3)"
   ]
  },
  {
   "cell_type": "code",
   "execution_count": 28,
   "metadata": {},
   "outputs": [
    {
     "name": "stdout",
     "output_type": "stream",
     "text": [
      "b    24564\n",
      "s     1559\n",
      "Name: Label, dtype: int64\n",
      "b    6857\n",
      "s     705\n",
      "Name: Label, dtype: int64\n",
      "b    2485\n",
      "s     467\n",
      "Name: Label, dtype: int64\n",
      "b    1373\n",
      "s     104\n",
      "Name: Label, dtype: int64\n"
     ]
    }
   ],
   "source": [
    "#Distribution of labels in the missing values\n",
    "#After running the analysis we see that the majority of the values are in background and few in signal. \n",
    "def labelDistribution(DF):\n",
    "    missing = (DF['DER_mass_MMC'] == -999.0)\n",
    "    labels = DF['Label']\n",
    "    print (labels[missing].value_counts())\n",
    "labelDistribution(dfJet0)\n",
    "labelDistribution(dfJet1)\n",
    "labelDistribution(dfJet2)\n",
    "labelDistribution(dfJet3)"
   ]
  },
  {
   "cell_type": "code",
   "execution_count": null,
   "metadata": {},
   "outputs": [],
   "source": []
  }
 ],
 "metadata": {
  "kernelspec": {
   "display_name": "Python 3",
   "language": "python",
   "name": "python3"
  },
  "language_info": {
   "codemirror_mode": {
    "name": "ipython",
    "version": 3
   },
   "file_extension": ".py",
   "mimetype": "text/x-python",
   "name": "python",
   "nbconvert_exporter": "python",
   "pygments_lexer": "ipython3",
   "version": "3.7.6"
  }
 },
 "nbformat": 4,
 "nbformat_minor": 4
}
